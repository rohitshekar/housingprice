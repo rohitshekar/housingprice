{
  "nbformat": 4,
  "nbformat_minor": 0,
  "metadata": {
    "colab": {
      "provenance": [],
      "collapsed_sections": [],
      "authorship_tag": "ABX9TyNLpWfPreqggzTzmd+/OPhE",
      "include_colab_link": true
    },
    "kernelspec": {
      "name": "python3",
      "display_name": "Python 3"
    },
    "language_info": {
      "name": "python"
    }
  },
  "cells": [
    {
      "cell_type": "markdown",
      "metadata": {
        "id": "view-in-github",
        "colab_type": "text"
      },
      "source": [
        "<a href=\"https://colab.research.google.com/github/rohitshekar/housingprice/blob/main/advreg.ipynb\" target=\"_parent\"><img src=\"https://colab.research.google.com/assets/colab-badge.svg\" alt=\"Open In Colab\"/></a>"
      ]
    },
    {
      "cell_type": "code",
      "execution_count": null,
      "metadata": {
        "id": "36HGbsGxzuNu"
      },
      "outputs": [],
      "source": [
        "import numpy as np\n",
        "import pandas as pd\n"
      ]
    },
    {
      "cell_type": "code",
      "source": [
        "a=pd.read_csv('hosuing.csv')\n",
        "b=pd.read_csv('housetest.csv')\n",
        "a.head()"
      ],
      "metadata": {
        "colab": {
          "base_uri": "https://localhost:8080/",
          "height": 300
        },
        "id": "T1FQIqMuz9dw",
        "outputId": "16901fc8-a116-4e7a-ad7e-48a3048bb9a8"
      },
      "execution_count": null,
      "outputs": [
        {
          "output_type": "execute_result",
          "data": {
            "text/html": [
              "\n",
              "  <div id=\"df-0396af0d-e48e-4645-bc3e-9cd0d9fe7b9f\">\n",
              "    <div class=\"colab-df-container\">\n",
              "      <div>\n",
              "<style scoped>\n",
              "    .dataframe tbody tr th:only-of-type {\n",
              "        vertical-align: middle;\n",
              "    }\n",
              "\n",
              "    .dataframe tbody tr th {\n",
              "        vertical-align: top;\n",
              "    }\n",
              "\n",
              "    .dataframe thead th {\n",
              "        text-align: right;\n",
              "    }\n",
              "</style>\n",
              "<table border=\"1\" class=\"dataframe\">\n",
              "  <thead>\n",
              "    <tr style=\"text-align: right;\">\n",
              "      <th></th>\n",
              "      <th>Id</th>\n",
              "      <th>MSSubClass</th>\n",
              "      <th>MSZoning</th>\n",
              "      <th>LotFrontage</th>\n",
              "      <th>LotArea</th>\n",
              "      <th>Street</th>\n",
              "      <th>Alley</th>\n",
              "      <th>LotShape</th>\n",
              "      <th>LandContour</th>\n",
              "      <th>Utilities</th>\n",
              "      <th>LotConfig</th>\n",
              "      <th>LandSlope</th>\n",
              "      <th>Neighborhood</th>\n",
              "      <th>Condition1</th>\n",
              "      <th>Condition2</th>\n",
              "      <th>BldgType</th>\n",
              "      <th>HouseStyle</th>\n",
              "      <th>OverallQual</th>\n",
              "      <th>OverallCond</th>\n",
              "      <th>YearBuilt</th>\n",
              "      <th>YearRemodAdd</th>\n",
              "      <th>RoofStyle</th>\n",
              "      <th>RoofMatl</th>\n",
              "      <th>Exterior1st</th>\n",
              "      <th>Exterior2nd</th>\n",
              "      <th>MasVnrType</th>\n",
              "      <th>MasVnrArea</th>\n",
              "      <th>ExterQual</th>\n",
              "      <th>ExterCond</th>\n",
              "      <th>Foundation</th>\n",
              "      <th>BsmtQual</th>\n",
              "      <th>BsmtCond</th>\n",
              "      <th>BsmtExposure</th>\n",
              "      <th>BsmtFinType1</th>\n",
              "      <th>BsmtFinSF1</th>\n",
              "      <th>BsmtFinType2</th>\n",
              "      <th>BsmtFinSF2</th>\n",
              "      <th>BsmtUnfSF</th>\n",
              "      <th>TotalBsmtSF</th>\n",
              "      <th>Heating</th>\n",
              "      <th>...</th>\n",
              "      <th>CentralAir</th>\n",
              "      <th>Electrical</th>\n",
              "      <th>1stFlrSF</th>\n",
              "      <th>2ndFlrSF</th>\n",
              "      <th>LowQualFinSF</th>\n",
              "      <th>GrLivArea</th>\n",
              "      <th>BsmtFullBath</th>\n",
              "      <th>BsmtHalfBath</th>\n",
              "      <th>FullBath</th>\n",
              "      <th>HalfBath</th>\n",
              "      <th>BedroomAbvGr</th>\n",
              "      <th>KitchenAbvGr</th>\n",
              "      <th>KitchenQual</th>\n",
              "      <th>TotRmsAbvGrd</th>\n",
              "      <th>Functional</th>\n",
              "      <th>Fireplaces</th>\n",
              "      <th>FireplaceQu</th>\n",
              "      <th>GarageType</th>\n",
              "      <th>GarageYrBlt</th>\n",
              "      <th>GarageFinish</th>\n",
              "      <th>GarageCars</th>\n",
              "      <th>GarageArea</th>\n",
              "      <th>GarageQual</th>\n",
              "      <th>GarageCond</th>\n",
              "      <th>PavedDrive</th>\n",
              "      <th>WoodDeckSF</th>\n",
              "      <th>OpenPorchSF</th>\n",
              "      <th>EnclosedPorch</th>\n",
              "      <th>3SsnPorch</th>\n",
              "      <th>ScreenPorch</th>\n",
              "      <th>PoolArea</th>\n",
              "      <th>PoolQC</th>\n",
              "      <th>Fence</th>\n",
              "      <th>MiscFeature</th>\n",
              "      <th>MiscVal</th>\n",
              "      <th>MoSold</th>\n",
              "      <th>YrSold</th>\n",
              "      <th>SaleType</th>\n",
              "      <th>SaleCondition</th>\n",
              "      <th>SalePrice</th>\n",
              "    </tr>\n",
              "  </thead>\n",
              "  <tbody>\n",
              "    <tr>\n",
              "      <th>0</th>\n",
              "      <td>1</td>\n",
              "      <td>60</td>\n",
              "      <td>RL</td>\n",
              "      <td>65.0</td>\n",
              "      <td>8450</td>\n",
              "      <td>Pave</td>\n",
              "      <td>NaN</td>\n",
              "      <td>Reg</td>\n",
              "      <td>Lvl</td>\n",
              "      <td>AllPub</td>\n",
              "      <td>Inside</td>\n",
              "      <td>Gtl</td>\n",
              "      <td>CollgCr</td>\n",
              "      <td>Norm</td>\n",
              "      <td>Norm</td>\n",
              "      <td>1Fam</td>\n",
              "      <td>2Story</td>\n",
              "      <td>7</td>\n",
              "      <td>5</td>\n",
              "      <td>2003</td>\n",
              "      <td>2003</td>\n",
              "      <td>Gable</td>\n",
              "      <td>CompShg</td>\n",
              "      <td>VinylSd</td>\n",
              "      <td>VinylSd</td>\n",
              "      <td>BrkFace</td>\n",
              "      <td>196.0</td>\n",
              "      <td>Gd</td>\n",
              "      <td>TA</td>\n",
              "      <td>PConc</td>\n",
              "      <td>Gd</td>\n",
              "      <td>TA</td>\n",
              "      <td>No</td>\n",
              "      <td>GLQ</td>\n",
              "      <td>706</td>\n",
              "      <td>Unf</td>\n",
              "      <td>0</td>\n",
              "      <td>150</td>\n",
              "      <td>856</td>\n",
              "      <td>GasA</td>\n",
              "      <td>...</td>\n",
              "      <td>Y</td>\n",
              "      <td>SBrkr</td>\n",
              "      <td>856</td>\n",
              "      <td>854</td>\n",
              "      <td>0</td>\n",
              "      <td>1710</td>\n",
              "      <td>1</td>\n",
              "      <td>0</td>\n",
              "      <td>2</td>\n",
              "      <td>1</td>\n",
              "      <td>3</td>\n",
              "      <td>1</td>\n",
              "      <td>Gd</td>\n",
              "      <td>8</td>\n",
              "      <td>Typ</td>\n",
              "      <td>0</td>\n",
              "      <td>NaN</td>\n",
              "      <td>Attchd</td>\n",
              "      <td>2003.0</td>\n",
              "      <td>RFn</td>\n",
              "      <td>2</td>\n",
              "      <td>548</td>\n",
              "      <td>TA</td>\n",
              "      <td>TA</td>\n",
              "      <td>Y</td>\n",
              "      <td>0</td>\n",
              "      <td>61</td>\n",
              "      <td>0</td>\n",
              "      <td>0</td>\n",
              "      <td>0</td>\n",
              "      <td>0</td>\n",
              "      <td>NaN</td>\n",
              "      <td>NaN</td>\n",
              "      <td>NaN</td>\n",
              "      <td>0</td>\n",
              "      <td>2</td>\n",
              "      <td>2008</td>\n",
              "      <td>WD</td>\n",
              "      <td>Normal</td>\n",
              "      <td>208500</td>\n",
              "    </tr>\n",
              "    <tr>\n",
              "      <th>1</th>\n",
              "      <td>2</td>\n",
              "      <td>20</td>\n",
              "      <td>RL</td>\n",
              "      <td>80.0</td>\n",
              "      <td>9600</td>\n",
              "      <td>Pave</td>\n",
              "      <td>NaN</td>\n",
              "      <td>Reg</td>\n",
              "      <td>Lvl</td>\n",
              "      <td>AllPub</td>\n",
              "      <td>FR2</td>\n",
              "      <td>Gtl</td>\n",
              "      <td>Veenker</td>\n",
              "      <td>Feedr</td>\n",
              "      <td>Norm</td>\n",
              "      <td>1Fam</td>\n",
              "      <td>1Story</td>\n",
              "      <td>6</td>\n",
              "      <td>8</td>\n",
              "      <td>1976</td>\n",
              "      <td>1976</td>\n",
              "      <td>Gable</td>\n",
              "      <td>CompShg</td>\n",
              "      <td>MetalSd</td>\n",
              "      <td>MetalSd</td>\n",
              "      <td>None</td>\n",
              "      <td>0.0</td>\n",
              "      <td>TA</td>\n",
              "      <td>TA</td>\n",
              "      <td>CBlock</td>\n",
              "      <td>Gd</td>\n",
              "      <td>TA</td>\n",
              "      <td>Gd</td>\n",
              "      <td>ALQ</td>\n",
              "      <td>978</td>\n",
              "      <td>Unf</td>\n",
              "      <td>0</td>\n",
              "      <td>284</td>\n",
              "      <td>1262</td>\n",
              "      <td>GasA</td>\n",
              "      <td>...</td>\n",
              "      <td>Y</td>\n",
              "      <td>SBrkr</td>\n",
              "      <td>1262</td>\n",
              "      <td>0</td>\n",
              "      <td>0</td>\n",
              "      <td>1262</td>\n",
              "      <td>0</td>\n",
              "      <td>1</td>\n",
              "      <td>2</td>\n",
              "      <td>0</td>\n",
              "      <td>3</td>\n",
              "      <td>1</td>\n",
              "      <td>TA</td>\n",
              "      <td>6</td>\n",
              "      <td>Typ</td>\n",
              "      <td>1</td>\n",
              "      <td>TA</td>\n",
              "      <td>Attchd</td>\n",
              "      <td>1976.0</td>\n",
              "      <td>RFn</td>\n",
              "      <td>2</td>\n",
              "      <td>460</td>\n",
              "      <td>TA</td>\n",
              "      <td>TA</td>\n",
              "      <td>Y</td>\n",
              "      <td>298</td>\n",
              "      <td>0</td>\n",
              "      <td>0</td>\n",
              "      <td>0</td>\n",
              "      <td>0</td>\n",
              "      <td>0</td>\n",
              "      <td>NaN</td>\n",
              "      <td>NaN</td>\n",
              "      <td>NaN</td>\n",
              "      <td>0</td>\n",
              "      <td>5</td>\n",
              "      <td>2007</td>\n",
              "      <td>WD</td>\n",
              "      <td>Normal</td>\n",
              "      <td>181500</td>\n",
              "    </tr>\n",
              "    <tr>\n",
              "      <th>2</th>\n",
              "      <td>3</td>\n",
              "      <td>60</td>\n",
              "      <td>RL</td>\n",
              "      <td>68.0</td>\n",
              "      <td>11250</td>\n",
              "      <td>Pave</td>\n",
              "      <td>NaN</td>\n",
              "      <td>IR1</td>\n",
              "      <td>Lvl</td>\n",
              "      <td>AllPub</td>\n",
              "      <td>Inside</td>\n",
              "      <td>Gtl</td>\n",
              "      <td>CollgCr</td>\n",
              "      <td>Norm</td>\n",
              "      <td>Norm</td>\n",
              "      <td>1Fam</td>\n",
              "      <td>2Story</td>\n",
              "      <td>7</td>\n",
              "      <td>5</td>\n",
              "      <td>2001</td>\n",
              "      <td>2002</td>\n",
              "      <td>Gable</td>\n",
              "      <td>CompShg</td>\n",
              "      <td>VinylSd</td>\n",
              "      <td>VinylSd</td>\n",
              "      <td>BrkFace</td>\n",
              "      <td>162.0</td>\n",
              "      <td>Gd</td>\n",
              "      <td>TA</td>\n",
              "      <td>PConc</td>\n",
              "      <td>Gd</td>\n",
              "      <td>TA</td>\n",
              "      <td>Mn</td>\n",
              "      <td>GLQ</td>\n",
              "      <td>486</td>\n",
              "      <td>Unf</td>\n",
              "      <td>0</td>\n",
              "      <td>434</td>\n",
              "      <td>920</td>\n",
              "      <td>GasA</td>\n",
              "      <td>...</td>\n",
              "      <td>Y</td>\n",
              "      <td>SBrkr</td>\n",
              "      <td>920</td>\n",
              "      <td>866</td>\n",
              "      <td>0</td>\n",
              "      <td>1786</td>\n",
              "      <td>1</td>\n",
              "      <td>0</td>\n",
              "      <td>2</td>\n",
              "      <td>1</td>\n",
              "      <td>3</td>\n",
              "      <td>1</td>\n",
              "      <td>Gd</td>\n",
              "      <td>6</td>\n",
              "      <td>Typ</td>\n",
              "      <td>1</td>\n",
              "      <td>TA</td>\n",
              "      <td>Attchd</td>\n",
              "      <td>2001.0</td>\n",
              "      <td>RFn</td>\n",
              "      <td>2</td>\n",
              "      <td>608</td>\n",
              "      <td>TA</td>\n",
              "      <td>TA</td>\n",
              "      <td>Y</td>\n",
              "      <td>0</td>\n",
              "      <td>42</td>\n",
              "      <td>0</td>\n",
              "      <td>0</td>\n",
              "      <td>0</td>\n",
              "      <td>0</td>\n",
              "      <td>NaN</td>\n",
              "      <td>NaN</td>\n",
              "      <td>NaN</td>\n",
              "      <td>0</td>\n",
              "      <td>9</td>\n",
              "      <td>2008</td>\n",
              "      <td>WD</td>\n",
              "      <td>Normal</td>\n",
              "      <td>223500</td>\n",
              "    </tr>\n",
              "    <tr>\n",
              "      <th>3</th>\n",
              "      <td>4</td>\n",
              "      <td>70</td>\n",
              "      <td>RL</td>\n",
              "      <td>60.0</td>\n",
              "      <td>9550</td>\n",
              "      <td>Pave</td>\n",
              "      <td>NaN</td>\n",
              "      <td>IR1</td>\n",
              "      <td>Lvl</td>\n",
              "      <td>AllPub</td>\n",
              "      <td>Corner</td>\n",
              "      <td>Gtl</td>\n",
              "      <td>Crawfor</td>\n",
              "      <td>Norm</td>\n",
              "      <td>Norm</td>\n",
              "      <td>1Fam</td>\n",
              "      <td>2Story</td>\n",
              "      <td>7</td>\n",
              "      <td>5</td>\n",
              "      <td>1915</td>\n",
              "      <td>1970</td>\n",
              "      <td>Gable</td>\n",
              "      <td>CompShg</td>\n",
              "      <td>Wd Sdng</td>\n",
              "      <td>Wd Shng</td>\n",
              "      <td>None</td>\n",
              "      <td>0.0</td>\n",
              "      <td>TA</td>\n",
              "      <td>TA</td>\n",
              "      <td>BrkTil</td>\n",
              "      <td>TA</td>\n",
              "      <td>Gd</td>\n",
              "      <td>No</td>\n",
              "      <td>ALQ</td>\n",
              "      <td>216</td>\n",
              "      <td>Unf</td>\n",
              "      <td>0</td>\n",
              "      <td>540</td>\n",
              "      <td>756</td>\n",
              "      <td>GasA</td>\n",
              "      <td>...</td>\n",
              "      <td>Y</td>\n",
              "      <td>SBrkr</td>\n",
              "      <td>961</td>\n",
              "      <td>756</td>\n",
              "      <td>0</td>\n",
              "      <td>1717</td>\n",
              "      <td>1</td>\n",
              "      <td>0</td>\n",
              "      <td>1</td>\n",
              "      <td>0</td>\n",
              "      <td>3</td>\n",
              "      <td>1</td>\n",
              "      <td>Gd</td>\n",
              "      <td>7</td>\n",
              "      <td>Typ</td>\n",
              "      <td>1</td>\n",
              "      <td>Gd</td>\n",
              "      <td>Detchd</td>\n",
              "      <td>1998.0</td>\n",
              "      <td>Unf</td>\n",
              "      <td>3</td>\n",
              "      <td>642</td>\n",
              "      <td>TA</td>\n",
              "      <td>TA</td>\n",
              "      <td>Y</td>\n",
              "      <td>0</td>\n",
              "      <td>35</td>\n",
              "      <td>272</td>\n",
              "      <td>0</td>\n",
              "      <td>0</td>\n",
              "      <td>0</td>\n",
              "      <td>NaN</td>\n",
              "      <td>NaN</td>\n",
              "      <td>NaN</td>\n",
              "      <td>0</td>\n",
              "      <td>2</td>\n",
              "      <td>2006</td>\n",
              "      <td>WD</td>\n",
              "      <td>Abnorml</td>\n",
              "      <td>140000</td>\n",
              "    </tr>\n",
              "    <tr>\n",
              "      <th>4</th>\n",
              "      <td>5</td>\n",
              "      <td>60</td>\n",
              "      <td>RL</td>\n",
              "      <td>84.0</td>\n",
              "      <td>14260</td>\n",
              "      <td>Pave</td>\n",
              "      <td>NaN</td>\n",
              "      <td>IR1</td>\n",
              "      <td>Lvl</td>\n",
              "      <td>AllPub</td>\n",
              "      <td>FR2</td>\n",
              "      <td>Gtl</td>\n",
              "      <td>NoRidge</td>\n",
              "      <td>Norm</td>\n",
              "      <td>Norm</td>\n",
              "      <td>1Fam</td>\n",
              "      <td>2Story</td>\n",
              "      <td>8</td>\n",
              "      <td>5</td>\n",
              "      <td>2000</td>\n",
              "      <td>2000</td>\n",
              "      <td>Gable</td>\n",
              "      <td>CompShg</td>\n",
              "      <td>VinylSd</td>\n",
              "      <td>VinylSd</td>\n",
              "      <td>BrkFace</td>\n",
              "      <td>350.0</td>\n",
              "      <td>Gd</td>\n",
              "      <td>TA</td>\n",
              "      <td>PConc</td>\n",
              "      <td>Gd</td>\n",
              "      <td>TA</td>\n",
              "      <td>Av</td>\n",
              "      <td>GLQ</td>\n",
              "      <td>655</td>\n",
              "      <td>Unf</td>\n",
              "      <td>0</td>\n",
              "      <td>490</td>\n",
              "      <td>1145</td>\n",
              "      <td>GasA</td>\n",
              "      <td>...</td>\n",
              "      <td>Y</td>\n",
              "      <td>SBrkr</td>\n",
              "      <td>1145</td>\n",
              "      <td>1053</td>\n",
              "      <td>0</td>\n",
              "      <td>2198</td>\n",
              "      <td>1</td>\n",
              "      <td>0</td>\n",
              "      <td>2</td>\n",
              "      <td>1</td>\n",
              "      <td>4</td>\n",
              "      <td>1</td>\n",
              "      <td>Gd</td>\n",
              "      <td>9</td>\n",
              "      <td>Typ</td>\n",
              "      <td>1</td>\n",
              "      <td>TA</td>\n",
              "      <td>Attchd</td>\n",
              "      <td>2000.0</td>\n",
              "      <td>RFn</td>\n",
              "      <td>3</td>\n",
              "      <td>836</td>\n",
              "      <td>TA</td>\n",
              "      <td>TA</td>\n",
              "      <td>Y</td>\n",
              "      <td>192</td>\n",
              "      <td>84</td>\n",
              "      <td>0</td>\n",
              "      <td>0</td>\n",
              "      <td>0</td>\n",
              "      <td>0</td>\n",
              "      <td>NaN</td>\n",
              "      <td>NaN</td>\n",
              "      <td>NaN</td>\n",
              "      <td>0</td>\n",
              "      <td>12</td>\n",
              "      <td>2008</td>\n",
              "      <td>WD</td>\n",
              "      <td>Normal</td>\n",
              "      <td>250000</td>\n",
              "    </tr>\n",
              "  </tbody>\n",
              "</table>\n",
              "<p>5 rows × 81 columns</p>\n",
              "</div>\n",
              "      <button class=\"colab-df-convert\" onclick=\"convertToInteractive('df-0396af0d-e48e-4645-bc3e-9cd0d9fe7b9f')\"\n",
              "              title=\"Convert this dataframe to an interactive table.\"\n",
              "              style=\"display:none;\">\n",
              "        \n",
              "  <svg xmlns=\"http://www.w3.org/2000/svg\" height=\"24px\"viewBox=\"0 0 24 24\"\n",
              "       width=\"24px\">\n",
              "    <path d=\"M0 0h24v24H0V0z\" fill=\"none\"/>\n",
              "    <path d=\"M18.56 5.44l.94 2.06.94-2.06 2.06-.94-2.06-.94-.94-2.06-.94 2.06-2.06.94zm-11 1L8.5 8.5l.94-2.06 2.06-.94-2.06-.94L8.5 2.5l-.94 2.06-2.06.94zm10 10l.94 2.06.94-2.06 2.06-.94-2.06-.94-.94-2.06-.94 2.06-2.06.94z\"/><path d=\"M17.41 7.96l-1.37-1.37c-.4-.4-.92-.59-1.43-.59-.52 0-1.04.2-1.43.59L10.3 9.45l-7.72 7.72c-.78.78-.78 2.05 0 2.83L4 21.41c.39.39.9.59 1.41.59.51 0 1.02-.2 1.41-.59l7.78-7.78 2.81-2.81c.8-.78.8-2.07 0-2.86zM5.41 20L4 18.59l7.72-7.72 1.47 1.35L5.41 20z\"/>\n",
              "  </svg>\n",
              "      </button>\n",
              "      \n",
              "  <style>\n",
              "    .colab-df-container {\n",
              "      display:flex;\n",
              "      flex-wrap:wrap;\n",
              "      gap: 12px;\n",
              "    }\n",
              "\n",
              "    .colab-df-convert {\n",
              "      background-color: #E8F0FE;\n",
              "      border: none;\n",
              "      border-radius: 50%;\n",
              "      cursor: pointer;\n",
              "      display: none;\n",
              "      fill: #1967D2;\n",
              "      height: 32px;\n",
              "      padding: 0 0 0 0;\n",
              "      width: 32px;\n",
              "    }\n",
              "\n",
              "    .colab-df-convert:hover {\n",
              "      background-color: #E2EBFA;\n",
              "      box-shadow: 0px 1px 2px rgba(60, 64, 67, 0.3), 0px 1px 3px 1px rgba(60, 64, 67, 0.15);\n",
              "      fill: #174EA6;\n",
              "    }\n",
              "\n",
              "    [theme=dark] .colab-df-convert {\n",
              "      background-color: #3B4455;\n",
              "      fill: #D2E3FC;\n",
              "    }\n",
              "\n",
              "    [theme=dark] .colab-df-convert:hover {\n",
              "      background-color: #434B5C;\n",
              "      box-shadow: 0px 1px 3px 1px rgba(0, 0, 0, 0.15);\n",
              "      filter: drop-shadow(0px 1px 2px rgba(0, 0, 0, 0.3));\n",
              "      fill: #FFFFFF;\n",
              "    }\n",
              "  </style>\n",
              "\n",
              "      <script>\n",
              "        const buttonEl =\n",
              "          document.querySelector('#df-0396af0d-e48e-4645-bc3e-9cd0d9fe7b9f button.colab-df-convert');\n",
              "        buttonEl.style.display =\n",
              "          google.colab.kernel.accessAllowed ? 'block' : 'none';\n",
              "\n",
              "        async function convertToInteractive(key) {\n",
              "          const element = document.querySelector('#df-0396af0d-e48e-4645-bc3e-9cd0d9fe7b9f');\n",
              "          const dataTable =\n",
              "            await google.colab.kernel.invokeFunction('convertToInteractive',\n",
              "                                                     [key], {});\n",
              "          if (!dataTable) return;\n",
              "\n",
              "          const docLinkHtml = 'Like what you see? Visit the ' +\n",
              "            '<a target=\"_blank\" href=https://colab.research.google.com/notebooks/data_table.ipynb>data table notebook</a>'\n",
              "            + ' to learn more about interactive tables.';\n",
              "          element.innerHTML = '';\n",
              "          dataTable['output_type'] = 'display_data';\n",
              "          await google.colab.output.renderOutput(dataTable, element);\n",
              "          const docLink = document.createElement('div');\n",
              "          docLink.innerHTML = docLinkHtml;\n",
              "          element.appendChild(docLink);\n",
              "        }\n",
              "      </script>\n",
              "    </div>\n",
              "  </div>\n",
              "  "
            ],
            "text/plain": [
              "   Id  MSSubClass MSZoning  ...  SaleType  SaleCondition SalePrice\n",
              "0   1          60       RL  ...        WD         Normal    208500\n",
              "1   2          20       RL  ...        WD         Normal    181500\n",
              "2   3          60       RL  ...        WD         Normal    223500\n",
              "3   4          70       RL  ...        WD        Abnorml    140000\n",
              "4   5          60       RL  ...        WD         Normal    250000\n",
              "\n",
              "[5 rows x 81 columns]"
            ]
          },
          "metadata": {},
          "execution_count": 429
        }
      ]
    },
    {
      "cell_type": "code",
      "source": [
        "a.isnull().sum().sort_values(ascending=False)"
      ],
      "metadata": {
        "colab": {
          "base_uri": "https://localhost:8080/"
        },
        "id": "fCuy_xRs0FOG",
        "outputId": "36b7cdcc-30ac-431e-f78c-964083c5db34"
      },
      "execution_count": null,
      "outputs": [
        {
          "output_type": "execute_result",
          "data": {
            "text/plain": [
              "PoolQC           1453\n",
              "MiscFeature      1406\n",
              "Alley            1369\n",
              "Fence            1179\n",
              "FireplaceQu       690\n",
              "                 ... \n",
              "CentralAir          0\n",
              "SaleCondition       0\n",
              "Heating             0\n",
              "TotalBsmtSF         0\n",
              "Id                  0\n",
              "Length: 81, dtype: int64"
            ]
          },
          "metadata": {},
          "execution_count": 430
        }
      ]
    },
    {
      "cell_type": "code",
      "source": [
        "print(a.columns)\n",
        "print(b.columns)"
      ],
      "metadata": {
        "id": "tqY4gAqe0kTY",
        "colab": {
          "base_uri": "https://localhost:8080/"
        },
        "outputId": "76c23553-cb51-43e5-c1c2-f0e6fed7c77f"
      },
      "execution_count": null,
      "outputs": [
        {
          "output_type": "stream",
          "name": "stdout",
          "text": [
            "Index(['Id', 'MSSubClass', 'MSZoning', 'LotFrontage', 'LotArea', 'Street',\n",
            "       'Alley', 'LotShape', 'LandContour', 'Utilities', 'LotConfig',\n",
            "       'LandSlope', 'Neighborhood', 'Condition1', 'Condition2', 'BldgType',\n",
            "       'HouseStyle', 'OverallQual', 'OverallCond', 'YearBuilt', 'YearRemodAdd',\n",
            "       'RoofStyle', 'RoofMatl', 'Exterior1st', 'Exterior2nd', 'MasVnrType',\n",
            "       'MasVnrArea', 'ExterQual', 'ExterCond', 'Foundation', 'BsmtQual',\n",
            "       'BsmtCond', 'BsmtExposure', 'BsmtFinType1', 'BsmtFinSF1',\n",
            "       'BsmtFinType2', 'BsmtFinSF2', 'BsmtUnfSF', 'TotalBsmtSF', 'Heating',\n",
            "       'HeatingQC', 'CentralAir', 'Electrical', '1stFlrSF', '2ndFlrSF',\n",
            "       'LowQualFinSF', 'GrLivArea', 'BsmtFullBath', 'BsmtHalfBath', 'FullBath',\n",
            "       'HalfBath', 'BedroomAbvGr', 'KitchenAbvGr', 'KitchenQual',\n",
            "       'TotRmsAbvGrd', 'Functional', 'Fireplaces', 'FireplaceQu', 'GarageType',\n",
            "       'GarageYrBlt', 'GarageFinish', 'GarageCars', 'GarageArea', 'GarageQual',\n",
            "       'GarageCond', 'PavedDrive', 'WoodDeckSF', 'OpenPorchSF',\n",
            "       'EnclosedPorch', '3SsnPorch', 'ScreenPorch', 'PoolArea', 'PoolQC',\n",
            "       'Fence', 'MiscFeature', 'MiscVal', 'MoSold', 'YrSold', 'SaleType',\n",
            "       'SaleCondition', 'SalePrice'],\n",
            "      dtype='object')\n",
            "Index(['Id', 'MSSubClass', 'MSZoning', 'LotFrontage', 'LotArea', 'Street',\n",
            "       'Alley', 'LotShape', 'LandContour', 'Utilities', 'LotConfig',\n",
            "       'LandSlope', 'Neighborhood', 'Condition1', 'Condition2', 'BldgType',\n",
            "       'HouseStyle', 'OverallQual', 'OverallCond', 'YearBuilt', 'YearRemodAdd',\n",
            "       'RoofStyle', 'RoofMatl', 'Exterior1st', 'Exterior2nd', 'MasVnrType',\n",
            "       'MasVnrArea', 'ExterQual', 'ExterCond', 'Foundation', 'BsmtQual',\n",
            "       'BsmtCond', 'BsmtExposure', 'BsmtFinType1', 'BsmtFinSF1',\n",
            "       'BsmtFinType2', 'BsmtFinSF2', 'BsmtUnfSF', 'TotalBsmtSF', 'Heating',\n",
            "       'HeatingQC', 'CentralAir', 'Electrical', '1stFlrSF', '2ndFlrSF',\n",
            "       'LowQualFinSF', 'GrLivArea', 'BsmtFullBath', 'BsmtHalfBath', 'FullBath',\n",
            "       'HalfBath', 'BedroomAbvGr', 'KitchenAbvGr', 'KitchenQual',\n",
            "       'TotRmsAbvGrd', 'Functional', 'Fireplaces', 'FireplaceQu', 'GarageType',\n",
            "       'GarageYrBlt', 'GarageFinish', 'GarageCars', 'GarageArea', 'GarageQual',\n",
            "       'GarageCond', 'PavedDrive', 'WoodDeckSF', 'OpenPorchSF',\n",
            "       'EnclosedPorch', '3SsnPorch', 'ScreenPorch', 'PoolArea', 'PoolQC',\n",
            "       'Fence', 'MiscFeature', 'MiscVal', 'MoSold', 'YrSold', 'SaleType',\n",
            "       'SaleCondition'],\n",
            "      dtype='object')\n"
          ]
        }
      ]
    },
    {
      "cell_type": "code",
      "source": [
        "a['MiscFeature']=np.where(a['MiscFeature'].isnull(),0,1)\n",
        "b['MiscFeature']=np.where(b['MiscFeature'].isnull(),0,1)"
      ],
      "metadata": {
        "id": "ZmWCT8Mm13WG"
      },
      "execution_count": null,
      "outputs": []
    },
    {
      "cell_type": "code",
      "source": [
        "a['Alley']=a['Alley'].fillna('A')\n",
        "b['Alley']=b['Alley'].fillna('A')"
      ],
      "metadata": {
        "id": "HDFyss3r3L74"
      },
      "execution_count": null,
      "outputs": []
    },
    {
      "cell_type": "code",
      "source": [
        "a['Fence']=a['Fence'].fillna('B')\n",
        "b['Fence']=b['Fence'].fillna('B')"
      ],
      "metadata": {
        "id": "nuZhdxHJ3s5L"
      },
      "execution_count": null,
      "outputs": []
    },
    {
      "cell_type": "code",
      "source": [
        "a['FireplaceQu']=a['FireplaceQu'].fillna(\"Gd\")\n",
        "b['FireplaceQu']=b['FireplaceQu'].fillna(\"Gd\")"
      ],
      "metadata": {
        "id": "AlKlB3iA5KYy"
      },
      "execution_count": null,
      "outputs": []
    },
    {
      "cell_type": "code",
      "source": [
        "a['LotFrontage']=a['LotFrontage'].fillna(a['LotFrontage'].median())\n",
        "b['LotFrontage']=b['LotFrontage'].fillna(b['LotFrontage'].median())"
      ],
      "metadata": {
        "id": "slyHP_L26K0s"
      },
      "execution_count": null,
      "outputs": []
    },
    {
      "cell_type": "code",
      "source": [
        "a['GarageYrBlt']=a['GarageArea'].fillna(a['GarageArea'].median())\n",
        "b['GarageYrBlt']=b['GarageArea'].fillna(b['GarageArea'].median())"
      ],
      "metadata": {
        "id": "FryL7FrN6xEF"
      },
      "execution_count": null,
      "outputs": []
    },
    {
      "cell_type": "code",
      "source": [
        "a['GarageCond']=a['GarageCond'].fillna(\"TA\")\n",
        "b['GarageCond']=b['GarageCond'].fillna(\"TA\")"
      ],
      "metadata": {
        "id": "1z8h19va7N_1"
      },
      "execution_count": null,
      "outputs": []
    },
    {
      "cell_type": "code",
      "source": [
        "a['GarageFinish']=a['GarageFinish'].fillna(\"Unf\")\n",
        "b['GarageFinish']=b['GarageFinish'].fillna(\"Unf\")"
      ],
      "metadata": {
        "id": "0m9jAS8S7sBi"
      },
      "execution_count": null,
      "outputs": []
    },
    {
      "cell_type": "code",
      "source": [
        "a['GarageType']=a['GarageType'].fillna(\"Attchd\")\n",
        "b['GarageType']=b['GarageType'].fillna(\"Attchd\")"
      ],
      "metadata": {
        "id": "k-HGmEEl8DOX"
      },
      "execution_count": null,
      "outputs": []
    },
    {
      "cell_type": "code",
      "source": [
        "a['GarageQual']=a['GarageQual'].fillna(\"TA\")\n",
        "b['GarageQual']=b['GarageQual'].fillna(\"TA\")"
      ],
      "metadata": {
        "id": "mF9iFYzX8Yhj"
      },
      "execution_count": null,
      "outputs": []
    },
    {
      "cell_type": "code",
      "source": [
        "a['BsmtFinType2']=a['BsmtFinType2'].fillna(\"Unf\")\n",
        "b['BsmtFinType2']=b['BsmtFinType2'].fillna(\"Unf\")"
      ],
      "metadata": {
        "id": "7stvJTzg8uI1"
      },
      "execution_count": null,
      "outputs": []
    },
    {
      "cell_type": "code",
      "source": [
        "a['BsmtExposure']=a['BsmtExposure'].fillna('No')\n",
        "b['BsmtExposure']=b['BsmtExposure'].fillna('No')"
      ],
      "metadata": {
        "id": "e4At_Yhz9FaO"
      },
      "execution_count": null,
      "outputs": []
    },
    {
      "cell_type": "code",
      "source": [
        "a['BsmtQual']=a['BsmtQual'].fillna(\"TA\")\n",
        "b['BsmtQual']=b['BsmtQual'].fillna(\"TA\")"
      ],
      "metadata": {
        "id": "RFi0M5Fr9Zai"
      },
      "execution_count": null,
      "outputs": []
    },
    {
      "cell_type": "code",
      "source": [
        "a['BsmtFinType1']=a['BsmtFinType1'].fillna(\"Unf\")\n",
        "b['BsmtFinType1']=b['BsmtFinType1'].fillna(\"Unf\")"
      ],
      "metadata": {
        "id": "7ywd2gou93yz"
      },
      "execution_count": null,
      "outputs": []
    },
    {
      "cell_type": "code",
      "source": [
        "a['BsmtCond']=a['BsmtCond'].fillna(\"TA\")\n",
        "b['BsmtCond']=b['BsmtCond'].fillna(\"TA\")"
      ],
      "metadata": {
        "id": "-lCabHM0-U-2"
      },
      "execution_count": null,
      "outputs": []
    },
    {
      "cell_type": "code",
      "source": [
        "a['MasVnrType']=a['MasVnrType'].fillna(\"None\")\n",
        "b['MasVnrType']=b['MasVnrType'].fillna(\"None\")"
      ],
      "metadata": {
        "id": "SJMueLx1-zoR"
      },
      "execution_count": null,
      "outputs": []
    },
    {
      "cell_type": "code",
      "source": [
        "a['MasVnrType']=np.where(a['MasVnrType']==\"None\",0,1)\n",
        "b['MasVnrType']=np.where(b['MasVnrType']==\"None\",0,1)"
      ],
      "metadata": {
        "id": "-wunO8Zr_ggL"
      },
      "execution_count": null,
      "outputs": []
    },
    {
      "cell_type": "code",
      "source": [
        "a['MasVnrArea']=a['MasVnrArea'].fillna(a['MasVnrArea'].median())\n",
        "b['MasVnrArea']=b['MasVnrArea'].fillna(b['MasVnrArea'].median())"
      ],
      "metadata": {
        "id": "S7P4S8zw_t87"
      },
      "execution_count": null,
      "outputs": []
    },
    {
      "cell_type": "code",
      "source": [
        "a['Electrical']=a['Electrical'].fillna(\"SBrkr\")\n",
        "b['Electrical']=b['Electrical'].fillna(\"SBrkr\")"
      ],
      "metadata": {
        "id": "NCVaymwjBMjS"
      },
      "execution_count": null,
      "outputs": []
    },
    {
      "cell_type": "code",
      "source": [
        "a['houseage']=(a['YrSold']-a['YearBuilt'])\n",
        "b['houseage']=(b['YrSold']-b['YearBuilt'])"
      ],
      "metadata": {
        "id": "PfhhLCPGBuFr"
      },
      "execution_count": null,
      "outputs": []
    },
    {
      "cell_type": "code",
      "source": [
        "a['LotArea']=a['LotArea'].fillna(a['LotArea'].median())\n",
        "b['LotArea']=b['LotArea'].fillna(b['LotArea'].median())"
      ],
      "metadata": {
        "id": "0gFEgDHGC1ft"
      },
      "execution_count": null,
      "outputs": []
    },
    {
      "cell_type": "code",
      "source": [
        "a=a.drop([\"YrSold\",\"YearBuilt\"],axis=1)\n",
        "b=b.drop([\"YrSold\",\"YearBuilt\"],axis=1)"
      ],
      "metadata": {
        "id": "t-nfMyTyDN4J"
      },
      "execution_count": null,
      "outputs": []
    },
    {
      "cell_type": "code",
      "source": [
        "num_cols=[a.select_dtypes(np.number).columns]"
      ],
      "metadata": {
        "id": "FTm0ow0bChHR"
      },
      "execution_count": null,
      "outputs": []
    },
    {
      "cell_type": "code",
      "source": [
        "3*(a['LotArea'].mean()-a['LotArea'].median())/a['LotArea'].std()"
      ],
      "metadata": {
        "colab": {
          "base_uri": "https://localhost:8080/"
        },
        "id": "qKn6kykYDWRy",
        "outputId": "58143355-c0f8-4b8f-ce4e-e5e3d512ccd5"
      },
      "execution_count": null,
      "outputs": [
        {
          "output_type": "execute_result",
          "data": {
            "text/plain": [
              "0.31208311448285075"
            ]
          },
          "metadata": {},
          "execution_count": 455
        }
      ]
    },
    {
      "cell_type": "code",
      "source": [
        "road={'Grvl':0,\n",
        "     'Pave':1 }\n",
        "a['Street']=a['Street'].map(road)\n",
        "b['Street']=b['Street'].map(road)"
      ],
      "metadata": {
        "id": "ElLsfOlYCGfA"
      },
      "execution_count": null,
      "outputs": []
    },
    {
      "cell_type": "code",
      "source": [
        "alley_dic={'A':0,\n",
        "      'Grvl':1,\n",
        "     'Pave':2 }\n",
        "a['Alley']=a['Alley'].map(alley_dic)\n",
        "b['Alley']=b['Alley'].map(alley_dic)"
      ],
      "metadata": {
        "id": "VCqsFNpsHYnv"
      },
      "execution_count": null,
      "outputs": []
    },
    {
      "cell_type": "code",
      "source": [
        "LotShape_dic={'Reg':3, 'IR1':2, 'IR2':1, 'IR3':0}\n",
        "a['LotShape']=a['LotShape'].map(LotShape_dic)\n",
        "b['LotShape']=b['LotShape'].map(LotShape_dic)"
      ],
      "metadata": {
        "id": "x1_5ca1YH9lv"
      },
      "execution_count": null,
      "outputs": []
    },
    {
      "cell_type": "code",
      "source": [
        "utilites_dic={'AllPub':1, 'NoSeWa':0}\n",
        "a['Utilities']=a['Utilities'].map(utilites_dic)\n",
        "b['Utilities']=b['Utilities'].map(utilites_dic)"
      ],
      "metadata": {
        "id": "QSzo_BZLLf8f"
      },
      "execution_count": null,
      "outputs": []
    },
    {
      "cell_type": "code",
      "source": [
        "landslope_sic={'Gtl':2, 'Mod':1, 'Sev':0}\n",
        "a['LandSlope']=a['LandSlope'].map(landslope_sic)\n",
        "b['LandSlope']=b['LandSlope'].map(landslope_sic)"
      ],
      "metadata": {
        "id": "44WD7e_PMJPY"
      },
      "execution_count": null,
      "outputs": []
    },
    {
      "cell_type": "code",
      "source": [
        "roofstyle_dic={'Gable':4, 'Hip':2, 'Gambrel':3, 'Mansard':1, 'Flat':5, 'Shed':0}\n",
        "a['RoofStyle']=a['RoofStyle'].map(roofstyle_dic)\n",
        "b['RoofStyle']=b['RoofStyle'].map(roofstyle_dic)"
      ],
      "metadata": {
        "id": "RHKB8oddM_iI"
      },
      "execution_count": null,
      "outputs": []
    },
    {
      "cell_type": "code",
      "source": [
        "roofmatl_dic={'CompShg':6, 'WdShngl':0, 'Metal':4, 'WdShake':1, 'Membran':5, 'Tar&Grv':2,\n",
        "       'Roll':3, 'ClyTile':7}\n",
        "a['RoofMatl']=a['RoofMatl'].map(roofmatl_dic)\n",
        "b['RoofMatl']=b['RoofMatl'].map(roofmatl_dic)"
      ],
      "metadata": {
        "id": "rg04nkrDPlxT"
      },
      "execution_count": null,
      "outputs": []
    },
    {
      "cell_type": "code",
      "source": [
        "exter_qual={'Gd':2, 'TA':1, 'Ex':3 ,'Fa':0}\n",
        "a['ExterQual']=a['ExterQual'].map(exter_qual)\n",
        "b['ExterQual']=b['ExterQual'].map(exter_qual)"
      ],
      "metadata": {
        "id": "i6y-NqEWQWHv"
      },
      "execution_count": null,
      "outputs": []
    },
    {
      "cell_type": "code",
      "source": [
        "exter_cond={'TA':2, 'Gd':3, 'Fa':1, 'Po':0, 'Ex':4}\n",
        "a['ExterCond']=a['ExterCond'].map(exter_cond)\n",
        "b['ExterCond']=b['ExterCond'].map(exter_cond)"
      ],
      "metadata": {
        "id": "4hYgmiE3Q8wv"
      },
      "execution_count": null,
      "outputs": []
    },
    {
      "cell_type": "code",
      "source": [
        "bsmt_qual={'Gd':2, 'TA':1, 'Ex':3, 'Fa':0}\n",
        "a['BsmtQual']=a['BsmtQual'].map(bsmt_qual)\n",
        "b['BsmtQual']=b['BsmtQual'].map(bsmt_qual)"
      ],
      "metadata": {
        "id": "09qA6qiXRkT0"
      },
      "execution_count": null,
      "outputs": []
    },
    {
      "cell_type": "code",
      "source": [
        "bsmtcond_dic={'TA':2, 'Gd':3, 'Fa':1, 'Po':0}\n",
        "a['BsmtCond']=a['BsmtCond'].map(bsmtcond_dic)\n",
        "b['BsmtCond']=b['BsmtCond'].map(bsmtcond_dic)"
      ],
      "metadata": {
        "id": "KKcjxObsSdG8"
      },
      "execution_count": null,
      "outputs": []
    },
    {
      "cell_type": "code",
      "source": [
        "bsmtexposure_dic={'No':0, 'Gd':3, 'Mn':1, 'Av':2}\n",
        "a['BsmtExposure']=a['BsmtExposure'].map(bsmtexposure_dic)\n",
        "b['BsmtExposure']=b['BsmtExposure'].map(bsmtexposure_dic)"
      ],
      "metadata": {
        "id": "X8FFVHuhTaGj"
      },
      "execution_count": null,
      "outputs": []
    },
    {
      "cell_type": "code",
      "source": [
        "bsmtfintype1={'GLQ':5, 'ALQ':4, 'Unf':0, 'Rec':2, 'BLQ':3, 'LwQ':1}\n",
        "a['BsmtFinType1']=a['BsmtFinType1'].map(bsmtfintype1)\n",
        "b['BsmtFinType1']=b['BsmtFinType1'].map(bsmtfintype1)"
      ],
      "metadata": {
        "id": "lbtta9LCT-sM"
      },
      "execution_count": null,
      "outputs": []
    },
    {
      "cell_type": "code",
      "source": [
        "bsmtfintype2={'GLQ':5, 'ALQ':4, 'Unf':0, 'Rec':2, 'BLQ':3, 'LwQ':1}\n",
        "a['BsmtFinType2']=a['BsmtFinType2'].map(bsmtfintype2)\n",
        "b['BsmtFinType2']=b['BsmtFinType2'].map(bsmtfintype2)"
      ],
      "metadata": {
        "id": "GkGTLnetUlcP"
      },
      "execution_count": null,
      "outputs": []
    },
    {
      "cell_type": "code",
      "source": [
        "heating_qual={'Ex':4, 'Gd':3, 'TA':2, 'Fa':1, 'Po':0}\n",
        "a['HeatingQC']=a['HeatingQC'].map(heating_qual)\n",
        "b['HeatingQC']=b['HeatingQC'].map(heating_qual)"
      ],
      "metadata": {
        "id": "woyb4SrtU_04"
      },
      "execution_count": null,
      "outputs": []
    },
    {
      "cell_type": "code",
      "source": [
        "electrical={'SBrkr':4, 'FuseF':1, 'FuseA':2, 'FuseP':0, 'Mix':3}\n",
        "a['Electrical']=a['Electrical'].map(electrical)\n",
        "b['Electrical']=b['Electrical'].map(electrical)"
      ],
      "metadata": {
        "id": "fRybMl17WHtO"
      },
      "execution_count": null,
      "outputs": []
    },
    {
      "cell_type": "code",
      "source": [
        "central={'Y':1, 'N':0}\n",
        "a['CentralAir']=a['CentralAir'].map(central)\n",
        "b['CentralAir']=b['CentralAir'].map(central)"
      ],
      "metadata": {
        "id": "Vlsi-lWvXF9a"
      },
      "execution_count": null,
      "outputs": []
    },
    {
      "cell_type": "code",
      "source": [
        "kitqual={'Gd':2, 'TA':1, 'Ex':3, 'Fa':0}\n",
        "a['KitchenQual']=a['KitchenQual'].map(kitqual)\n",
        "b['KitchenQual']=b['KitchenQual'].map(kitqual)"
      ],
      "metadata": {
        "id": "hT5TsP4IXcG1"
      },
      "execution_count": null,
      "outputs": []
    },
    {
      "cell_type": "code",
      "source": [
        "functional={'Typ':6, 'Min1':5, 'Maj1':2, 'Min2':4, 'Mod':3, 'Maj2':1, 'Sev':0}\n",
        "a['Functional']=a['Functional'].map(functional)\n",
        "b['Functional']=b['Functional'].map(functional)"
      ],
      "metadata": {
        "id": "LZ_J2_LFX7_Z"
      },
      "execution_count": null,
      "outputs": []
    },
    {
      "cell_type": "code",
      "source": [
        "firequal={'Gd':3, 'TA':2, 'Fa':1, 'Ex':4, 'Po':0}\n",
        "a['FireplceQu']=a['FireplaceQu'].map(firequal)\n",
        "b['FireplceQu']=b['FireplaceQu'].map(firequal)"
      ],
      "metadata": {
        "id": "9svZVTfyYx-t"
      },
      "execution_count": null,
      "outputs": []
    },
    {
      "cell_type": "code",
      "source": [
        "garagefin={'RFn':1, 'Unf':0, 'Fin':2}\n",
        "a['GarageFinish']=a['GarageFinish'].map(garagefin)\n",
        "b['GarageFinish']=b['GarageFinish'].map(garagefin)"
      ],
      "metadata": {
        "id": "Aw8VI7rcZjg1"
      },
      "execution_count": null,
      "outputs": []
    },
    {
      "cell_type": "code",
      "source": [
        "garagequal={'Gd':3, 'TA':2, 'Fa':1, 'Ex':4, 'Po':0}\n",
        "a['GarageQual']=a['GarageQual'].map(garagequal)\n",
        "b['GarageQual']=b['GarageQual'].map(garagequal)"
      ],
      "metadata": {
        "id": "DCeXiLugZ_CK"
      },
      "execution_count": null,
      "outputs": []
    },
    {
      "cell_type": "code",
      "source": [
        "garagcond={'Gd':3, 'TA':2, 'Fa':1, 'Ex':4, 'Po':0}\n",
        "a['GarageCond']=a['GarageCond'].map(garagcond)\n",
        "b['GarageCond']=b['GarageCond'].map(garagcond)"
      ],
      "metadata": {
        "id": "eCIiGh75ae6h"
      },
      "execution_count": null,
      "outputs": []
    },
    {
      "cell_type": "code",
      "source": [
        "pav={'Y':2, 'N':0, 'P':1}\n",
        "a['PavedDrive']=a['PavedDrive'].map(pav)\n",
        "b['PavedDrive']=b['PavedDrive'].map(pav)"
      ],
      "metadata": {
        "id": "SijQtKtQa58J"
      },
      "execution_count": null,
      "outputs": []
    },
    {
      "cell_type": "code",
      "source": [
        "poolqc={np.nan:0, 'Ex':3, 'Fa':1, 'Gd':2}\n",
        "a['PoolQC']=a['PoolQC'].map(poolqc)\n",
        "b['PoolQC']=b['PoolQC'].map(poolqc)"
      ],
      "metadata": {
        "id": "JMHUmvsJbLyr"
      },
      "execution_count": null,
      "outputs": []
    },
    {
      "cell_type": "code",
      "source": [
        "fencequal={'B':0, 'MnPrv':3, 'GdWo':2, 'GdPrv':4, 'MnWw':1}\n",
        "a['Fence']=a['Fence'].map(fencequal)\n",
        "b['Fence']=b['Fence'].map(fencequal)\n"
      ],
      "metadata": {
        "id": "DtZmWljDb_BF"
      },
      "execution_count": null,
      "outputs": []
    },
    {
      "cell_type": "code",
      "source": [
        "for i in num_cols:\n",
        "  skewness=3*(a[i].mean()-a[i].median())/a[i].std()\n",
        "  try:\n",
        "   if(skewness>0.7):\n",
        "    a[i]=np.log(a[i]+1)\n",
        "  except:\n",
        "    ValueError"
      ],
      "metadata": {
        "id": "MbFquh1XGFXX"
      },
      "execution_count": null,
      "outputs": []
    },
    {
      "cell_type": "code",
      "source": [
        "a=pd.get_dummies(a,drop_first=True)\n",
        "b=pd.get_dummies(b,drop_first=True)"
      ],
      "metadata": {
        "id": "Fb3w0qA27NXp"
      },
      "execution_count": null,
      "outputs": []
    },
    {
      "cell_type": "code",
      "source": [
        "x=a.drop([\"Id\",\"SalePrice\"],axis=1)\n",
        "y=a['SalePrice']\n",
        "x_test=b.drop(\"Id\",axis=1)"
      ],
      "metadata": {
        "id": "LfAA9JsIcj0r"
      },
      "execution_count": null,
      "outputs": []
    },
    {
      "cell_type": "code",
      "source": [
        "from sklearn.svm import SVR\n",
        "reg=SVR(kernel='rbf')\n",
        "reg.fit(x,y)\n",
        "from sklearn.model_selection import cross_val_score\n",
        "scores=cross_val_score(X=x,y=y,estimator=reg,cv=10)\n",
        "print(scores.mean())\n"
      ],
      "metadata": {
        "id": "gKkXToCOvgtf",
        "colab": {
          "base_uri": "https://localhost:8080/"
        },
        "outputId": "e8f5c4ad-a5dd-4df3-8e6b-acab3708c118"
      },
      "execution_count": null,
      "outputs": [
        {
          "output_type": "stream",
          "name": "stdout",
          "text": [
            "-0.05377677113259558\n"
          ]
        }
      ]
    },
    {
      "cell_type": "code",
      "source": [
        "from sklearn.tree import DecisionTreeRegressor\n",
        "reg=DecisionTreeRegressor()\n",
        "reg.fit(x,y)\n",
        "from sklearn.model_selection import cross_val_score\n",
        "scores=cross_val_score(X=x,y=y,estimator=reg,cv=10)\n",
        "print(scores.mean())\n"
      ],
      "metadata": {
        "colab": {
          "base_uri": "https://localhost:8080/"
        },
        "id": "1fO689dowO4r",
        "outputId": "bdbeaf9b-a831-4097-c731-7e8497ad653f"
      },
      "execution_count": null,
      "outputs": [
        {
          "output_type": "stream",
          "name": "stdout",
          "text": [
            "0.7398969600321026\n"
          ]
        }
      ]
    },
    {
      "cell_type": "code",
      "source": [
        "from sklearn.ensemble import RandomForestRegressor\n",
        "reg=RandomForestRegressor(n_estimators=500)\n",
        "reg.fit(x,y)\n",
        "from sklearn.model_selection import cross_val_score\n",
        "scores=cross_val_score(X=x,y=y,estimator=reg,cv=10)\n",
        "print(\"the average accuracy is:\",scores.mean())\n",
        "print(\"the std is: \",scores.std())"
      ],
      "metadata": {
        "colab": {
          "base_uri": "https://localhost:8080/"
        },
        "id": "GRLxcMCYw50n",
        "outputId": "856979de-ab34-4662-8ba1-2222d363e106"
      },
      "execution_count": null,
      "outputs": [
        {
          "output_type": "stream",
          "name": "stdout",
          "text": [
            "the average accuracy is: 0.866438956677853\n",
            "the std is:  0.04299858073729271\n"
          ]
        }
      ]
    },
    {
      "cell_type": "code",
      "source": [
        "from xgboost import XGBRegressor\n",
        "reg=XGBRegressor()\n",
        "reg.fit(x,y)\n",
        "from sklearn.model_selection import cross_val_score\n",
        "scores=cross_val_score(X=x,y=y,estimator=reg,cv=10)\n",
        "print(\"the average accuracy is:\",scores.mean())\n",
        "print(\"the std is: \",scores.std())\n"
      ],
      "metadata": {
        "id": "Dmz-haHoxHnc",
        "colab": {
          "base_uri": "https://localhost:8080/"
        },
        "outputId": "94efe320-9eab-4b1c-e0fd-d92b22437805"
      },
      "execution_count": null,
      "outputs": [
        {
          "output_type": "stream",
          "name": "stdout",
          "text": [
            "[07:31:36] WARNING: /workspace/src/objective/regression_obj.cu:152: reg:linear is now deprecated in favor of reg:squarederror.\n",
            "[07:31:37] WARNING: /workspace/src/objective/regression_obj.cu:152: reg:linear is now deprecated in favor of reg:squarederror.\n",
            "[07:31:37] WARNING: /workspace/src/objective/regression_obj.cu:152: reg:linear is now deprecated in favor of reg:squarederror.\n",
            "[07:31:38] WARNING: /workspace/src/objective/regression_obj.cu:152: reg:linear is now deprecated in favor of reg:squarederror.\n",
            "[07:31:39] WARNING: /workspace/src/objective/regression_obj.cu:152: reg:linear is now deprecated in favor of reg:squarederror.\n",
            "[07:31:39] WARNING: /workspace/src/objective/regression_obj.cu:152: reg:linear is now deprecated in favor of reg:squarederror.\n",
            "[07:31:40] WARNING: /workspace/src/objective/regression_obj.cu:152: reg:linear is now deprecated in favor of reg:squarederror.\n",
            "[07:31:40] WARNING: /workspace/src/objective/regression_obj.cu:152: reg:linear is now deprecated in favor of reg:squarederror.\n",
            "[07:31:41] WARNING: /workspace/src/objective/regression_obj.cu:152: reg:linear is now deprecated in favor of reg:squarederror.\n",
            "[07:31:41] WARNING: /workspace/src/objective/regression_obj.cu:152: reg:linear is now deprecated in favor of reg:squarederror.\n",
            "[07:31:42] WARNING: /workspace/src/objective/regression_obj.cu:152: reg:linear is now deprecated in favor of reg:squarederror.\n",
            "the average accuracy is: 0.8786575275656032\n",
            "the std is:  0.03956938986318565\n"
          ]
        }
      ]
    },
    {
      "cell_type": "code",
      "source": [
        "from sklearn.ensemble import GradientBoostingRegressor \n",
        "reg=GradientBoostingRegressor()\n",
        "reg.fit(x,y)\n",
        "from sklearn.model_selection import cross_val_score\n",
        "scores=cross_val_score(X=x,y=y,estimator=reg,cv=10)\n",
        "print(\"the average accuracy is:\",scores.mean())\n",
        "print(\"the std is: \",scores.std())\n"
      ],
      "metadata": {
        "colab": {
          "base_uri": "https://localhost:8080/"
        },
        "id": "P5xcVZmoxpav",
        "outputId": "8f2bece3-62cd-4efc-81c6-7c6a10abc4bd"
      },
      "execution_count": null,
      "outputs": [
        {
          "output_type": "stream",
          "name": "stdout",
          "text": [
            "the average accuracy is: 0.8930318132164663\n",
            "the std is:  0.03408132969932459\n"
          ]
        }
      ]
    },
    {
      "cell_type": "code",
      "source": [
        "from sklearn.linear_model import  LinearRegression\n",
        "reg=LinearRegression()\n",
        "reg.fit(x,y)\n",
        "from sklearn.model_selection import cross_val_score\n",
        "scores=cross_val_score(X=x,y=y,estimator=reg,cv=10)\n",
        "print(\"the average accuracy is:\",scores.mean())\n",
        "print(\"the std is: \",scores.std())"
      ],
      "metadata": {
        "id": "6LA_M2qM0fig",
        "colab": {
          "base_uri": "https://localhost:8080/"
        },
        "outputId": "f817037e-97ab-4939-958b-418b6592abcf"
      },
      "execution_count": null,
      "outputs": [
        {
          "output_type": "stream",
          "name": "stdout",
          "text": [
            "the average accuracy is: 0.8163492228544218\n",
            "the std is:  0.09170479713651451\n"
          ]
        }
      ]
    },
    {
      "cell_type": "code",
      "source": [],
      "metadata": {
        "id": "FSq7jOp0bUpm"
      },
      "execution_count": null,
      "outputs": []
    },
    {
      "cell_type": "code",
      "source": [],
      "metadata": {
        "id": "ULLTO5USbukn"
      },
      "execution_count": null,
      "outputs": []
    },
    {
      "cell_type": "code",
      "source": [
        "\n"
      ],
      "metadata": {
        "id": "fZxqljobcA6T"
      },
      "execution_count": null,
      "outputs": []
    },
    {
      "cell_type": "code",
      "source": [],
      "metadata": {
        "id": "h2KhCWNyXoXf"
      },
      "execution_count": null,
      "outputs": []
    },
    {
      "cell_type": "code",
      "source": [],
      "metadata": {
        "id": "c4R7tXYUYE45"
      },
      "execution_count": null,
      "outputs": []
    },
    {
      "cell_type": "code",
      "source": [],
      "metadata": {
        "id": "LXTVyY6YYrnK"
      },
      "execution_count": null,
      "outputs": []
    }
  ]
}